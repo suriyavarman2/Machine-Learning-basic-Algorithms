{
 "cells": [
  {
   "cell_type": "code",
   "execution_count": 6,
   "metadata": {},
   "outputs": [],
   "source": [
    "import pandas as pd \n",
    "from sklearn.svm import SVC \n",
    "from sklearn.model_selection import train_test_split \n",
    "from sklearn.metrics import confusion_matrix \n",
    "from sklearn.metrics import classification_report \n",
    "from sklearn.metrics import accuracy_score"
   ]
  },
  {
   "cell_type": "code",
   "execution_count": 61,
   "metadata": {},
   "outputs": [
    {
     "name": "stdout",
     "output_type": "stream",
     "text": [
      "   Class  age  sex  bone  marrow  lung  pleura  peri  liver  brain  skin  \\\n",
      "0      1    1    1     2       2     1       2     2      2      2     2   \n",
      "1      1    1    1     2       2     2       2     2      1      2     2   \n",
      "2      1    1    2     1       2     2       2     2      2      2     2   \n",
      "3      1    1    2     1       2     1       1     2      2      2     2   \n",
      "4      1    1    2     1       2     1       1     2      2      2     2   \n",
      "5      1    1    2     1       2     2       2     2      2      1     2   \n",
      "6      1    2    1     1       2     2       2     2      2      2     1   \n",
      "7      1    2    1     1       2     2       2     2      2      2     2   \n",
      "8      1    2    1     2       2     2       2     2      2      2     2   \n",
      "9      1    2    1     1       2     2       2     2      2      2     2   \n",
      "\n",
      "   neck  supraaclavicular  axillar  mediastinum  abdominal  \n",
      "0     2                 2        2            2          2  \n",
      "1     2                 1        2            1          2  \n",
      "2     2                 2        2            1          2  \n",
      "3     2                 2        2            1          2  \n",
      "4     2                 2        2            1          2  \n",
      "5     2                 1        1            1          2  \n",
      "6     1                 1        2            2          2  \n",
      "7     2                 2        2            2          2  \n",
      "8     1                 2        2            2          2  \n",
      "9     1                 1        2            2          2  \n"
     ]
    }
   ],
   "source": [
    "df = pd.read_csv(\"primary-tumor.csv\")\n",
    "print(df.head(10)) "
   ]
  },
  {
   "cell_type": "code",
   "execution_count": 62,
   "metadata": {},
   "outputs": [],
   "source": [
    "array = df.values\n",
    "X = array[:,0:15]\n",
    "y = array[:,15]\n"
   ]
  },
  {
   "cell_type": "code",
   "execution_count": 83,
   "metadata": {},
   "outputs": [],
   "source": [
    "X_train, X_test, y_train, y_test = train_test_split(X, y,test_size=0.8,random_state=0)"
   ]
  },
  {
   "cell_type": "code",
   "execution_count": 84,
   "metadata": {},
   "outputs": [
    {
     "data": {
      "text/plain": [
       "SVC(C=1.0, break_ties=False, cache_size=200, class_weight=None, coef0=0.0,\n",
       "    decision_function_shape='ovr', degree=3, gamma='scale', kernel='linear',\n",
       "    max_iter=-1, probability=False, random_state=0, shrinking=True, tol=0.001,\n",
       "    verbose=False)"
      ]
     },
     "execution_count": 84,
     "metadata": {},
     "output_type": "execute_result"
    }
   ],
   "source": [
    "model = SVC(kernel='linear',random_state=0)\n",
    "model.fit(X_train,y_train)"
   ]
  },
  {
   "cell_type": "code",
   "execution_count": 85,
   "metadata": {},
   "outputs": [],
   "source": [
    "pred = model.predict(X_test)"
   ]
  },
  {
   "cell_type": "code",
   "execution_count": 86,
   "metadata": {},
   "outputs": [
    {
     "name": "stdout",
     "output_type": "stream",
     "text": [
      "\n",
      "\n",
      "The confusion matrix is \n",
      "\n",
      "\n",
      "[[ 50  45]\n",
      " [ 25 152]]\n"
     ]
    }
   ],
   "source": [
    "print(\"\\n\\nThe confusion matrix is \\n\\n\")\n",
    "conf = confusion_matrix(y_test,pred)\n",
    "print(conf)"
   ]
  },
  {
   "cell_type": "code",
   "execution_count": 87,
   "metadata": {},
   "outputs": [
    {
     "name": "stdout",
     "output_type": "stream",
     "text": [
      "\n",
      "\n",
      "Accuracy is\n",
      "0.7426470588235294\n"
     ]
    }
   ],
   "source": [
    "print(\"\\n\\nAccuracy is\")\n",
    "accuracy = accuracy_score(y_test,pred)\n",
    "print(accuracy)"
   ]
  },
  {
   "cell_type": "code",
   "execution_count": 88,
   "metadata": {},
   "outputs": [
    {
     "name": "stdout",
     "output_type": "stream",
     "text": [
      "\n",
      " Classification Report\n",
      "              precision    recall  f1-score   support\n",
      "\n",
      "           1       0.67      0.53      0.59        95\n",
      "           2       0.77      0.86      0.81       177\n",
      "\n",
      "    accuracy                           0.74       272\n",
      "   macro avg       0.72      0.69      0.70       272\n",
      "weighted avg       0.73      0.74      0.73       272\n",
      "\n"
     ]
    }
   ],
   "source": [
    "print('\\n Classification Report')\n",
    "report = classification_report(y_test,pred)\n",
    "print(report)"
   ]
  },
  {
   "cell_type": "code",
   "execution_count": 89,
   "metadata": {},
   "outputs": [
    {
     "data": {
      "text/plain": [
       "SVC(C=1.0, break_ties=False, cache_size=200, class_weight=None, coef0=0.0,\n",
       "    decision_function_shape='ovr', degree=3, gamma='scale', kernel='rbf',\n",
       "    max_iter=-1, probability=False, random_state=0, shrinking=True, tol=0.001,\n",
       "    verbose=False)"
      ]
     },
     "execution_count": 89,
     "metadata": {},
     "output_type": "execute_result"
    }
   ],
   "source": [
    "model1 = SVC(kernel='rbf',random_state=0)\n",
    "model1.fit(X_train,y_train)"
   ]
  },
  {
   "cell_type": "code",
   "execution_count": 90,
   "metadata": {},
   "outputs": [],
   "source": [
    "pred = model1.predict(X_test)"
   ]
  },
  {
   "cell_type": "code",
   "execution_count": 91,
   "metadata": {},
   "outputs": [
    {
     "name": "stdout",
     "output_type": "stream",
     "text": [
      "\n",
      "\n",
      "The confusion matrix for RBF kernel is \n",
      "\n",
      "\n",
      "[[  0  95]\n",
      " [  0 177]]\n"
     ]
    }
   ],
   "source": [
    "print(\"\\n\\nThe confusion matrix for RBF kernel is \\n\\n\")\n",
    "conf = confusion_matrix(y_test,pred)\n",
    "print(conf)"
   ]
  },
  {
   "cell_type": "code",
   "execution_count": 92,
   "metadata": {},
   "outputs": [
    {
     "name": "stdout",
     "output_type": "stream",
     "text": [
      "\n",
      "\n",
      "Accuracy for RBF kernel is\n",
      "0.6507352941176471\n"
     ]
    }
   ],
   "source": [
    "print(\"\\n\\nAccuracy for RBF kernel is\")\n",
    "accuracy = accuracy_score(y_test,pred)\n",
    "print(accuracy)"
   ]
  },
  {
   "cell_type": "code",
   "execution_count": null,
   "metadata": {},
   "outputs": [],
   "source": []
  },
  {
   "cell_type": "code",
   "execution_count": null,
   "metadata": {},
   "outputs": [],
   "source": []
  }
 ],
 "metadata": {
  "kernelspec": {
   "display_name": "Python 3",
   "language": "python",
   "name": "python3"
  },
  "language_info": {
   "codemirror_mode": {
    "name": "ipython",
    "version": 3
   },
   "file_extension": ".py",
   "mimetype": "text/x-python",
   "name": "python",
   "nbconvert_exporter": "python",
   "pygments_lexer": "ipython3",
   "version": "3.7.6"
  }
 },
 "nbformat": 4,
 "nbformat_minor": 4
}

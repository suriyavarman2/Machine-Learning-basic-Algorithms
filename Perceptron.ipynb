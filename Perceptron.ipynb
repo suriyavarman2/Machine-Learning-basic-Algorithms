{
 "cells": [
  {
   "cell_type": "code",
   "execution_count": 9,
   "metadata": {},
   "outputs": [],
   "source": [
    "import numpy as np"
   ]
  },
  {
   "cell_type": "code",
   "execution_count": 131,
   "metadata": {},
   "outputs": [],
   "source": [
    "class Perceptron(object):    \n",
    "    def __init__(self, input_size, lr=0.4, epochs=6): \n",
    "        self.W = np.array([1.0,1.0])\n",
    "        self.epochs = epochs       \n",
    "        self.lr = lr   \n",
    "    def activation_fn(self, x):   \n",
    "            return 1 if x >= 0 else 0    \n",
    "    def predict(self, x,theta):      \n",
    "            z = self.W.T.dot(x)-theta       \n",
    "            z=round(z,2)       \n",
    "            a = self.activation_fn(z)      \n",
    "            return a\n",
    "    def fit(self, X, d,theta ,count):  \n",
    "        for _ in range(self.epochs):\n",
    "            print(\"Epoch: \", count)  \n",
    "            count = count+1          \n",
    "            for i in range(d.shape[0]): \n",
    "                x = X[i]               \n",
    "                print(\"input\", x , \"\\t\", \"Weight:\",self.W )               \n",
    "                y = self.predict(x,theta)              \n",
    "                e = d[i] - y            \n",
    "                self.W = self.W + self.lr * e * x\n",
    "    if __name__ == '__main__': \n",
    "        X = np.array([      \n",
    "            [0, 0],       \n",
    "            [0, 1],       \n",
    "            [1, 0],        \n",
    "            [1, 1]])           "
   ]
  },
  {
   "cell_type": "code",
   "execution_count": 132,
   "metadata": {},
   "outputs": [],
   "source": [
    "d = np.array([0, 0, 0, 1]) \n",
    "perceptron = Perceptron(input_size=2) "
   ]
  },
  {
   "cell_type": "code",
   "execution_count": 133,
   "metadata": {},
   "outputs": [],
   "source": [
    "d1 = np.array([0, 1, 1, 1]) \n",
    "perceptron = Perceptron(input_size=2) "
   ]
  },
  {
   "cell_type": "code",
   "execution_count": 134,
   "metadata": {},
   "outputs": [],
   "source": [
    "d11 = np.array([0, 1, 1, 0]) \n",
    "perceptron = Perceptron(input_size=2) "
   ]
  },
  {
   "cell_type": "code",
   "execution_count": 135,
   "metadata": {},
   "outputs": [
    {
     "name": "stdout",
     "output_type": "stream",
     "text": [
      "Epoch:  1\n",
      "input [0 0] \t Weight: [1. 1.]\n",
      "input [0 1] \t Weight: [1. 1.]\n",
      "input [1 0] \t Weight: [1.  0.6]\n",
      "input [1 1] \t Weight: [0.6 0.6]\n",
      "Epoch:  2\n",
      "input [0 0] \t Weight: [0.6 0.6]\n",
      "input [0 1] \t Weight: [0.6 0.6]\n",
      "input [1 0] \t Weight: [0.6 0.2]\n",
      "input [1 1] \t Weight: [0.2 0.2]\n",
      "Epoch:  3\n",
      "input [0 0] \t Weight: [0.6 0.6]\n",
      "input [0 1] \t Weight: [0.6 0.6]\n",
      "input [1 0] \t Weight: [0.6 0.2]\n",
      "input [1 1] \t Weight: [0.2 0.2]\n",
      "Epoch:  4\n",
      "input [0 0] \t Weight: [0.6 0.6]\n",
      "input [0 1] \t Weight: [0.6 0.6]\n",
      "input [1 0] \t Weight: [0.6 0.2]\n",
      "input [1 1] \t Weight: [0.2 0.2]\n",
      "Epoch:  5\n",
      "input [0 0] \t Weight: [0.6 0.6]\n",
      "input [0 1] \t Weight: [0.6 0.6]\n",
      "input [1 0] \t Weight: [0.6 0.2]\n",
      "input [1 1] \t Weight: [0.2 0.2]\n",
      "Epoch:  6\n",
      "input [0 0] \t Weight: [0.6 0.6]\n",
      "input [0 1] \t Weight: [0.6 0.6]\n",
      "input [1 0] \t Weight: [0.6 0.2]\n",
      "input [1 1] \t Weight: [0.2 0.2]\n",
      "[0.6 0.6]\n"
     ]
    }
   ],
   "source": [
    " \n",
    "theta=0.5 \n",
    "count =1  \n",
    "perceptron.fit(X, d,theta, count)  \n",
    "print(perceptron.W)"
   ]
  },
  {
   "cell_type": "code",
   "execution_count": 136,
   "metadata": {},
   "outputs": [
    {
     "name": "stdout",
     "output_type": "stream",
     "text": [
      "Epoch:  1\n",
      "input [0 0] \t Weight: [0.6 0.6]\n",
      "input [0 1] \t Weight: [0.6 0.6]\n",
      "input [1 0] \t Weight: [0.6 0.6]\n",
      "input [1 1] \t Weight: [0.6 0.6]\n",
      "Epoch:  2\n",
      "input [0 0] \t Weight: [0.6 0.6]\n",
      "input [0 1] \t Weight: [0.6 0.6]\n",
      "input [1 0] \t Weight: [0.6 0.6]\n",
      "input [1 1] \t Weight: [0.6 0.6]\n",
      "Epoch:  3\n",
      "input [0 0] \t Weight: [0.6 0.6]\n",
      "input [0 1] \t Weight: [0.6 0.6]\n",
      "input [1 0] \t Weight: [0.6 0.6]\n",
      "input [1 1] \t Weight: [0.6 0.6]\n",
      "Epoch:  4\n",
      "input [0 0] \t Weight: [0.6 0.6]\n",
      "input [0 1] \t Weight: [0.6 0.6]\n",
      "input [1 0] \t Weight: [0.6 0.6]\n",
      "input [1 1] \t Weight: [0.6 0.6]\n",
      "Epoch:  5\n",
      "input [0 0] \t Weight: [0.6 0.6]\n",
      "input [0 1] \t Weight: [0.6 0.6]\n",
      "input [1 0] \t Weight: [0.6 0.6]\n",
      "input [1 1] \t Weight: [0.6 0.6]\n",
      "Epoch:  6\n",
      "input [0 0] \t Weight: [0.6 0.6]\n",
      "input [0 1] \t Weight: [0.6 0.6]\n",
      "input [1 0] \t Weight: [0.6 0.6]\n",
      "input [1 1] \t Weight: [0.6 0.6]\n",
      "[0.6 0.6]\n"
     ]
    }
   ],
   "source": [
    " \n",
    "theta=0.4  \n",
    "count =1  \n",
    "perceptron.fit(X, d1,theta, count)  \n",
    "print(perceptron.W)"
   ]
  },
  {
   "cell_type": "code",
   "execution_count": 137,
   "metadata": {},
   "outputs": [
    {
     "name": "stdout",
     "output_type": "stream",
     "text": [
      "Epoch:  1\n",
      "input [0 0] \t Weight: [0.6 0.6]\n",
      "input [0 1] \t Weight: [0.6 0.6]\n",
      "input [1 0] \t Weight: [0.6 0.6]\n",
      "input [1 1] \t Weight: [0.6 0.6]\n",
      "Epoch:  2\n",
      "input [0 0] \t Weight: [0.2 0.2]\n",
      "input [0 1] \t Weight: [0.2 0.2]\n",
      "input [1 0] \t Weight: [0.2 0.2]\n",
      "input [1 1] \t Weight: [0.2 0.2]\n",
      "Epoch:  3\n",
      "input [0 0] \t Weight: [-0.2 -0.2]\n",
      "input [0 1] \t Weight: [-0.2 -0.2]\n",
      "input [1 0] \t Weight: [-0.2 -0.2]\n",
      "input [1 1] \t Weight: [-0.2 -0.2]\n",
      "Epoch:  4\n",
      "input [0 0] \t Weight: [-0.6 -0.6]\n",
      "input [0 1] \t Weight: [-0.6 -0.6]\n",
      "input [1 0] \t Weight: [-0.6 -0.2]\n",
      "input [1 1] \t Weight: [-0.2 -0.2]\n",
      "Epoch:  5\n",
      "input [0 0] \t Weight: [-0.6 -0.6]\n",
      "input [0 1] \t Weight: [-0.6 -0.6]\n",
      "input [1 0] \t Weight: [-0.6 -0.2]\n",
      "input [1 1] \t Weight: [-0.2 -0.2]\n",
      "Epoch:  6\n",
      "input [0 0] \t Weight: [-0.6 -0.6]\n",
      "input [0 1] \t Weight: [-0.6 -0.6]\n",
      "input [1 0] \t Weight: [-0.6 -0.2]\n",
      "input [1 1] \t Weight: [-0.2 -0.2]\n",
      "[-0.6 -0.6]\n"
     ]
    }
   ],
   "source": [
    "\n",
    "theta=-0.5\n",
    "count =1  \n",
    "perceptron.fit(X, d11,theta, count)  \n",
    "print(perceptron.W)"
   ]
  },
  {
   "cell_type": "code",
   "execution_count": null,
   "metadata": {},
   "outputs": [],
   "source": []
  },
  {
   "cell_type": "code",
   "execution_count": 102,
   "metadata": {},
   "outputs": [],
   "source": []
  },
  {
   "cell_type": "code",
   "execution_count": null,
   "metadata": {},
   "outputs": [],
   "source": [
    "\n"
   ]
  },
  {
   "cell_type": "code",
   "execution_count": null,
   "metadata": {},
   "outputs": [],
   "source": []
  },
  {
   "cell_type": "code",
   "execution_count": null,
   "metadata": {},
   "outputs": [],
   "source": []
  }
 ],
 "metadata": {
  "kernelspec": {
   "display_name": "Python 3",
   "language": "python",
   "name": "python3"
  },
  "language_info": {
   "codemirror_mode": {
    "name": "ipython",
    "version": 3
   },
   "file_extension": ".py",
   "mimetype": "text/x-python",
   "name": "python",
   "nbconvert_exporter": "python",
   "pygments_lexer": "ipython3",
   "version": "3.7.6"
  }
 },
 "nbformat": 4,
 "nbformat_minor": 4
}

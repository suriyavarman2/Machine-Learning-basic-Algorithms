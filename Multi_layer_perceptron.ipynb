{
 "cells": [
  {
   "cell_type": "code",
   "execution_count": 131,
   "metadata": {},
   "outputs": [],
   "source": [
    "import numpy as np "
   ]
  },
  {
   "cell_type": "code",
   "execution_count": 132,
   "metadata": {},
   "outputs": [],
   "source": [
    "def abs(x):\n",
    "    return x if x>0 else -x\n",
    "\n"
   ]
  },
  {
   "cell_type": "code",
   "execution_count": 133,
   "metadata": {},
   "outputs": [],
   "source": [
    "def sigmoid (x):    \n",
    "    return 1/(1 + np.exp(-x))"
   ]
  },
  {
   "cell_type": "code",
   "execution_count": 134,
   "metadata": {},
   "outputs": [],
   "source": [
    "def sigmoid_derivative(x):    \n",
    "    return x * (1 - x)"
   ]
  },
  {
   "cell_type": "code",
   "execution_count": 135,
   "metadata": {},
   "outputs": [],
   "source": [
    "def checkError(predicted_output):\n",
    "    expected_output = [[0],[1],[1],[0]]\n",
    "    for i,j in  zip(expected_output , predicted_output):\n",
    "        if abs(i[0]-j[0]) > 0.001:\n",
    "            return True\n",
    "    return False"
   ]
  },
  {
   "cell_type": "code",
   "execution_count": 136,
   "metadata": {},
   "outputs": [],
   "source": [
    "inputs = np.array([[0,0],[0,1],[1,0],[1,1]])\n",
    "expected_output = np.array([[0],[1],[1],[0]])"
   ]
  },
  {
   "cell_type": "code",
   "execution_count": 194,
   "metadata": {},
   "outputs": [],
   "source": [
    "epoch = 0\n",
    "lr = 0.5"
   ]
  },
  {
   "cell_type": "code",
   "execution_count": 196,
   "metadata": {},
   "outputs": [
    {
     "name": "stdin",
     "output_type": "stream",
     "text": [
      "enter no of inputLayer 2\n",
      "enter no of hiddenlayer  2\n",
      "enter no of outputlayer  1\n"
     ]
    }
   ],
   "source": [
    "inputLayerNeurons = int(input(\"enter no of inputLayer\"))\n",
    "hiddenLayerNeurons = int(input(\"enter no of hiddenlayer \"))\n",
    "outputLayerNeurons = int(input(\"enter no of outputlayer \"))"
   ]
  },
  {
   "cell_type": "code",
   "execution_count": 198,
   "metadata": {},
   "outputs": [
    {
     "name": "stdin",
     "output_type": "stream",
     "text": [
      "w13 2\n",
      "w14 3.2\n",
      "w23 2.8\n",
      "w24 3.3\n"
     ]
    }
   ],
   "source": [
    "hidden_weights = []\n",
    "for i in range(1,inputLayerNeurons+1):\n",
    "    hidden_weights_ind = []\n",
    "    for j in range(inputLayerNeurons+1,inputLayerNeurons+hiddenLayerNeurons+1):\n",
    "        hidden_weights_ind.append(float(input('w'+str(i)+str(j))))\n",
    "    hidden_weights.append(hidden_weights_ind)"
   ]
  },
  {
   "cell_type": "markdown",
   "metadata": {},
   "source": [
    "\n"
   ]
  },
  {
   "cell_type": "code",
   "execution_count": 199,
   "metadata": {},
   "outputs": [
    {
     "name": "stdin",
     "output_type": "stream",
     "text": [
      "w35 1.1\n",
      "w45 4.2\n"
     ]
    }
   ],
   "source": [
    "output_weights = []\n",
    "for i in range(inputLayerNeurons+1,inputLayerNeurons+hiddenLayerNeurons+1):\n",
    "    output_weights_ind = []\n",
    "    for j in range(inputLayerNeurons+hiddenLayerNeurons+1,inputLayerNeurons+hiddenLayerNeurons+outputLayerNeurons+1):\n",
    "        output_weights_ind.append(float(input('w'+str(i)+str(j))))\n",
    "    output_weights.append(output_weights_ind)"
   ]
  },
  {
   "cell_type": "code",
   "execution_count": 200,
   "metadata": {},
   "outputs": [
    {
     "name": "stdin",
     "output_type": "stream",
     "text": [
      "o3 1\n",
      "o4 2\n",
      "o5 1\n"
     ]
    }
   ],
   "source": [
    "hidden_bias = []\n",
    "output_bias = []\n",
    "for i in range(inputLayerNeurons+1,inputLayerNeurons+hiddenLayerNeurons+outputLayerNeurons+1):\n",
    "    if i > inputLayerNeurons+hiddenLayerNeurons:\n",
    "        output_bias.append(float(input(\"o\"+str(i))))\n",
    "    else:\n",
    "            hidden_bias.append(float(input(\"o\"+str(i))))\n"
   ]
  },
  {
   "cell_type": "code",
   "execution_count": 201,
   "metadata": {},
   "outputs": [
    {
     "name": "stdout",
     "output_type": "stream",
     "text": [
      "Initial hidden weights: [2.  3.2] [2.8 3.3]\n",
      "Initial hidden biases: [1. 2.]\n",
      "Initial output weights: [1.1] [4.2]\n",
      "Initial output biases: [1.]\n"
     ]
    }
   ],
   "source": [
    "hidden_weights = np.asarray(hidden_weights)\n",
    "hidden_bias = np.asarray([hidden_bias])\n",
    "output_weights = np.asarray(output_weights)\n",
    "output_bias = np.asarray([output_bias])\n",
    "print(\"Initial hidden weights: \",end='')\n",
    "print(*hidden_weights)\n",
    "print(\"Initial hidden biases: \",end='')\n",
    "print(*hidden_bias)\n",
    "print(\"Initial output weights: \",end='')\n",
    "print(*output_weights)\n",
    "print(\"Initial output biases: \",end='')\n",
    "print(*output_bias)"
   ]
  },
  {
   "cell_type": "code",
   "execution_count": 202,
   "metadata": {},
   "outputs": [],
   "source": [
    "predicted_output = [[0],[0],[0],[0]]"
   ]
  },
  {
   "cell_type": "code",
   "execution_count": 203,
   "metadata": {},
   "outputs": [],
   "source": [
    "while checkError(predicted_output):\n",
    "    epoch += 1\n",
    "    \n",
    "    #Forward Propagation\n",
    "    hidden_layer_activation = np.dot(inputs,hidden_weights)\n",
    "    hidden_layer_activation += hidden_bias\n",
    "    hidden_layer_output = sigmoid(hidden_layer_activation)\n",
    "    output_layer_activation = np.dot(hidden_layer_output,output_weights)\n",
    "    output_layer_activation += output_bias\n",
    "    predicted_output = sigmoid(output_layer_activation)\n",
    "    error = expected_output - predicted_output\n",
    "    d_predicted_output = error * sigmoid_derivative(predicted_output)\n",
    "    error_hidden_layer = d_predicted_output.dot(output_weights.T)\n",
    "    d_hidden_layer=error_hidden_layer*sigmoid_derivative(hidden_layer_output)\n",
    "    #Updating Weights and Biases\n",
    "    output_weights += hidden_layer_output.T.dot(d_predicted_output) * lr\n",
    "    output_bias += np.sum(d_predicted_output,axis=0,keepdims=True) * lr\n",
    "    hidden_weights += inputs.T.dot(d_hidden_layer) * lr\n",
    "    hidden_bias += np.sum(d_hidden_layer,axis=0,keepdims=True) * lr\n",
    "    if(epoch==1000):\n",
    "        break\n",
    "    \n",
    "    "
   ]
  },
  {
   "cell_type": "code",
   "execution_count": null,
   "metadata": {},
   "outputs": [],
   "source": []
  },
  {
   "cell_type": "code",
   "execution_count": 204,
   "metadata": {},
   "outputs": [
    {
     "name": "stdout",
     "output_type": "stream",
     "text": [
      "Final hidden weights: [2.21242428 5.57923315] [2.26316145 5.90421926]\n",
      "Final hidden bias: [-3.1716451  -1.55364466]\n",
      "Final output weights: [-4.95955509] [5.564554]\n",
      "Final output bias: [-2.69201488]\n",
      "\n",
      "Output from neural network: [0.12795451] [0.7976545] [0.80168702] [0.26457799]\n",
      "\n",
      "No of epochs\n",
      "1000\n"
     ]
    }
   ],
   "source": [
    "print(\"Final hidden weights: \",end='')\n",
    "print(*hidden_weights)\n",
    "print(\"Final hidden bias: \",end='')\n",
    "print(*hidden_bias)\n",
    "print(\"Final output weights: \",end='')\n",
    "print(*output_weights)\n",
    "print(\"Final output bias: \",end='')\n",
    "print(*output_bias)\n",
    "print(\"\\nOutput from neural network: \",end='')\n",
    "print(*predicted_output)\n",
    "print(\"\\nNo of epochs\")\n",
    "print(epoch)"
   ]
  },
  {
   "cell_type": "code",
   "execution_count": null,
   "metadata": {},
   "outputs": [],
   "source": [
    "plot(epochs,*predited_output)"
   ]
  }
 ],
 "metadata": {
  "kernelspec": {
   "display_name": "Python 3",
   "language": "python",
   "name": "python3"
  },
  "language_info": {
   "codemirror_mode": {
    "name": "ipython",
    "version": 3
   },
   "file_extension": ".py",
   "mimetype": "text/x-python",
   "name": "python",
   "nbconvert_exporter": "python",
   "pygments_lexer": "ipython3",
   "version": "3.7.6"
  }
 },
 "nbformat": 4,
 "nbformat_minor": 4
}
